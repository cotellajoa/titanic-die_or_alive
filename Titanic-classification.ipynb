{
 "cells": [
  {
   "cell_type": "code",
   "execution_count": null,
   "id": "64d40dfc-31aa-4eb1-a2f8-8cff474699c1",
   "metadata": {},
   "outputs": [],
   "source": []
  }
 ],
 "metadata": {
  "kernelspec": {
   "display_name": "",
   "name": ""
  },
  "language_info": {
   "name": ""
  }
 },
 "nbformat": 4,
 "nbformat_minor": 5
}
