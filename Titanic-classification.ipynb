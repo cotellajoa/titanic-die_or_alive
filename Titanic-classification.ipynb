{
 "cells": [
  {
   "cell_type": "markdown",
   "id": "d0ad7088-c6c3-45ab-8f75-a009c9530b6a",
   "metadata": {},
   "source": [
    "# Manipulacion de los datos"
   ]
  },
  {
   "cell_type": "code",
   "execution_count": 3,
   "id": "eb303141-cdee-43fa-a7dc-2aae1e0f4d5b",
   "metadata": {},
   "outputs": [],
   "source": [
    "import pandas as pd\n",
    "import numpy as np\n",
    "from sklearn.model_selection import train_test_split\n",
    "from sklearn.linear_model import LogisticRegression\n",
    "\n",
    "data = pd.read_csv('titanic-dataset.csv')\n"
   ]
  },
  {
   "cell_type": "markdown",
   "id": "32069e44-90d0-4a47-b24a-59867f0d489a",
   "metadata": {},
   "source": [
    "### Preprocesamiento y EDA"
   ]
  },
  {
   "cell_type": "code",
   "execution_count": 4,
   "id": "9dd03f40-b1ca-4516-8524-2a813f42cfb3",
   "metadata": {},
   "outputs": [
    {
     "data": {
      "text/plain": [
       "PassengerId    False\n",
       "Survived       False\n",
       "Pclass         False\n",
       "Name           False\n",
       "Sex            False\n",
       "Age             True\n",
       "SibSp          False\n",
       "Parch          False\n",
       "Ticket         False\n",
       "Fare            True\n",
       "Cabin           True\n",
       "Embarked       False\n",
       "dtype: bool"
      ]
     },
     "execution_count": 4,
     "metadata": {},
     "output_type": "execute_result"
    }
   ],
   "source": [
    "data.isna().any()"
   ]
  },
  {
   "cell_type": "code",
   "execution_count": 34,
   "id": "4f21fb8d-d8ef-4e0e-8df0-1025affe0634",
   "metadata": {},
   "outputs": [],
   "source": [
    "df_clean = data.drop(['PassengerId', 'Name', 'Ticket', 'Cabin'], axis=1).copy()"
   ]
  },
  {
   "cell_type": "code",
   "execution_count": 37,
   "id": "ceac408a-6e39-4fb2-8f6b-c4215be52f3b",
   "metadata": {},
   "outputs": [
    {
     "data": {
      "text/plain": [
       "Survived        int64\n",
       "Pclass          int64\n",
       "Sex            object\n",
       "Age           float64\n",
       "Fare          float64\n",
       "Embarked       object\n",
       "FamilySize      int64\n",
       "IsAlone         int64\n",
       "dtype: object"
      ]
     },
     "execution_count": 37,
     "metadata": {},
     "output_type": "execute_result"
    }
   ],
   "source": [
    "from sklearn.pipeline import Pipeline\n",
    "from sklearn.preprocessing import OneHotEncoder, StandardScaler\n",
    "from sklearn.impute import SimpleImputer\n",
    "from sklearn.compose import ColumnTransformer\n",
    "from sklearn.linear_model import LogisticRegression\n",
    "from sklearn.model_selection import GridSearchCV, train_test_split\n",
    "from sklearn.metrics import accuracy_score, precision_score, recall_score\n",
    "\n",
    "# Cleaning NA Values\n",
    "df_clean['FamilySize'] = df_clean['SibSp'] + df_clean['Parch'] + 1\n",
    "df_clean['IsAlone'] = (df_clean['FamilySize'] == 1).astype(int)\n",
    "df_clean.drop(columns=['SibSp', 'Parch'], inplace=True)\n"
   ]
  },
  {
   "cell_type": "code",
   "execution_count": null,
   "id": "4b2b4b16-0494-4dfa-a889-05d11c54df12",
   "metadata": {},
   "outputs": [],
   "source": []
  }
 ],
 "metadata": {
  "kernelspec": {
   "display_name": "Python 3 (ipykernel)",
   "language": "python",
   "name": "python3"
  },
  "language_info": {
   "codemirror_mode": {
    "name": "ipython",
    "version": 3
   },
   "file_extension": ".py",
   "mimetype": "text/x-python",
   "name": "python",
   "nbconvert_exporter": "python",
   "pygments_lexer": "ipython3",
   "version": "3.13.2"
  }
 },
 "nbformat": 4,
 "nbformat_minor": 5
}
